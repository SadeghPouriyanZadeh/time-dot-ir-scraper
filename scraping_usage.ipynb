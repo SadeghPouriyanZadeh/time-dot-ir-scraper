{
 "cells": [
  {
   "cell_type": "code",
   "execution_count": 1,
   "metadata": {},
   "outputs": [],
   "source": [
    "from timescrap.proxy_scraper import TimeDotIrScraper"
   ]
  },
  {
   "cell_type": "code",
   "execution_count": null,
   "metadata": {},
   "outputs": [],
   "source": [
    "years = [2024]\n",
    "months = \"whole_year\"\n",
    "days = \"whole_month\"\n",
    "sleep_range = (5, 10)\n",
    "calenadr_type = \"gregorian\"\n",
    "\n",
    "scraper = TimeDotIrScraper()\n",
    "\n",
    "results = scraper.scrap(\n",
    "    years=years,\n",
    "    months=months,\n",
    "    days=days,\n",
    "    sleep_range=sleep_range,\n",
    "    calenadr_type=calenadr_type,\n",
    ")"
   ]
  },
  {
   "cell_type": "code",
   "execution_count": null,
   "metadata": {},
   "outputs": [],
   "source": []
  }
 ],
 "metadata": {
  "kernelspec": {
   "display_name": "ml",
   "language": "python",
   "name": "python3"
  },
  "language_info": {
   "codemirror_mode": {
    "name": "ipython",
    "version": 3
   },
   "file_extension": ".py",
   "mimetype": "text/x-python",
   "name": "python",
   "nbconvert_exporter": "python",
   "pygments_lexer": "ipython3",
   "version": "3.12.2"
  }
 },
 "nbformat": 4,
 "nbformat_minor": 2
}
