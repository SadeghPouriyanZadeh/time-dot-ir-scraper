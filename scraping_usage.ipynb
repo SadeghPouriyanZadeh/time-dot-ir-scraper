{
 "cells": [
  {
   "cell_type": "code",
   "execution_count": 1,
   "metadata": {},
   "outputs": [],
   "source": [
    "from timescrap.proxy_scraper import TimeDotIrScraper\n",
    "from timescrap.types import ScrapingParameters, CalendarRange"
   ]
  },
  {
   "cell_type": "code",
   "execution_count": 2,
   "metadata": {},
   "outputs": [
    {
     "name": "stderr",
     "output_type": "stream",
     "text": [
      "Initializing the scraping process...: 0it [00:00, ?it/s]\n",
      "Number of Scraped Data: 2: 100%|██████████| 2/2 [00:36<00:00, 18.25s/it]"
     ]
    },
    {
     "name": "stdout",
     "output_type": "stream",
     "text": [
      "2 dates scraped successfully.\n"
     ]
    },
    {
     "name": "stderr",
     "output_type": "stream",
     "text": [
      "\n"
     ]
    }
   ],
   "source": [
    "years = [2024]\n",
    "months = [1, 3]\n",
    "days = [2]\n",
    "sleep_range = (5, 10)\n",
    "calenadr_type = \"gregorian\"\n",
    "retry_limit_warning = 20\n",
    "halt_limit = 50\n",
    "save_file_path = None\n",
    "resume = True\n",
    "\n",
    "calendar_range = CalendarRange(\n",
    "    calenadr_type=calenadr_type,\n",
    "    years=years,\n",
    "    months=months,\n",
    "    days=days,\n",
    ")\n",
    "scraping_parameters = ScrapingParameters(\n",
    "    calendar_range=calendar_range,\n",
    "    sleep_range=sleep_range,\n",
    "    retry_limit_warning=retry_limit_warning,\n",
    "    halt_limit=halt_limit,\n",
    "    save_file_path=save_file_path,\n",
    "    resume=resume,\n",
    ")\n",
    "\n",
    "scraper = TimeDotIrScraper()\n",
    "\n",
    "results = scraper.scrape(scraping_parameters)"
   ]
  },
  {
   "cell_type": "code",
   "execution_count": null,
   "metadata": {},
   "outputs": [],
   "source": []
  }
 ],
 "metadata": {
  "kernelspec": {
   "display_name": "ml",
   "language": "python",
   "name": "python3"
  },
  "language_info": {
   "codemirror_mode": {
    "name": "ipython",
    "version": 3
   },
   "file_extension": ".py",
   "mimetype": "text/x-python",
   "name": "python",
   "nbconvert_exporter": "python",
   "pygments_lexer": "ipython3",
   "version": "3.12.2"
  }
 },
 "nbformat": 4,
 "nbformat_minor": 2
}
