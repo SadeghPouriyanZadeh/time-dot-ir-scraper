{
 "cells": [
  {
   "cell_type": "code",
   "execution_count": 1,
   "metadata": {},
   "outputs": [],
   "source": [
    "from timescrap.proxy_scraper import TimeDotIrScraper\n",
    "from timescrap.types import ScrapingParameters, CalendarRange"
   ]
  },
  {
   "cell_type": "code",
   "execution_count": 2,
   "metadata": {},
   "outputs": [
    {
     "name": "stderr",
     "output_type": "stream",
     "text": [
      "Initializing the scraping process...: 0it [00:00, ?it/s]"
     ]
    },
    {
     "name": "stdout",
     "output_type": "stream",
     "text": [
      "2192 dates loaded successfully.\n",
      "Total number of dates to scrape: 40\n"
     ]
    },
    {
     "name": "stderr",
     "output_type": "stream",
     "text": [
      "Initializing the scraping process...:   0%|          | 0/40 [05:49<?, ?it/s]"
     ]
    },
    {
     "name": "stdout",
     "output_type": "stream",
     "text": [
      "2192 dates scraped successfully.\n"
     ]
    },
    {
     "name": "stderr",
     "output_type": "stream",
     "text": [
      "\n"
     ]
    }
   ],
   "source": [
    "years = list(range(2019, 2025))\n",
    "months = \"whole_year\"\n",
    "days = \"whole_month\"\n",
    "calenadr_type = \"gregorian\"\n",
    "sleep_range = (5, 10)\n",
    "retry_limit_warning = 20\n",
    "halt_limit = 50\n",
    "save_file_path = \"gitignore_dir/time_dot_ir_2019_to_2024.json\"\n",
    "resume = True\n",
    "\n",
    "calendar_range = CalendarRange(\n",
    "    calenadr_type=calenadr_type,\n",
    "    years=years,\n",
    "    months=months,\n",
    "    days=days,\n",
    ")\n",
    "scraping_parameters = ScrapingParameters(\n",
    "    calendar_range=calendar_range,\n",
    "    sleep_range=sleep_range,\n",
    "    retry_limit_warning=retry_limit_warning,\n",
    "    halt_limit=halt_limit,\n",
    "    save_file_path=save_file_path,\n",
    "    resume=resume,\n",
    ")\n",
    "\n",
    "scraper = TimeDotIrScraper(scraping_parameters)\n",
    "\n",
    "results = scraper.scrape()"
   ]
  },
  {
   "cell_type": "code",
   "execution_count": 3,
   "metadata": {},
   "outputs": [],
   "source": [
    "# 2192"
   ]
  }
 ],
 "metadata": {
  "kernelspec": {
   "display_name": "ml",
   "language": "python",
   "name": "python3"
  },
  "language_info": {
   "codemirror_mode": {
    "name": "ipython",
    "version": 3
   },
   "file_extension": ".py",
   "mimetype": "text/x-python",
   "name": "python",
   "nbconvert_exporter": "python",
   "pygments_lexer": "ipython3",
   "version": "3.12.2"
  }
 },
 "nbformat": 4,
 "nbformat_minor": 2
}
